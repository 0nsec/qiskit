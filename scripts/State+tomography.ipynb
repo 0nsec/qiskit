{
 "cells": [
  {
   "cell_type": "markdown",
   "metadata": {},
   "source": [
    "<img src=\"./images/QIBM-logo.gif\" alt=\"Note: In order for images to show up in this jupyter notebook you need to select File => Trusted Notebook\" width=\"250 px\" align=\"left\">"
   ]
  },
  {
   "cell_type": "markdown",
   "metadata": {},
   "source": [
    "## _*Multi-qubit state tomography*_ <br />with the IBM Quantum Experience Web API \n",
    "© IBM Research\n",
    "\n",
    "The latest version of this notebook is available on https://github.ibm.com/QuantumSDK/qx-sdk/scripts/.\n",
    "\n",
    "For more information about how to use the Quantum Experience consult the [IBM Quantum Experience tutorials](https://quantumexperience.ng.bluemix.net/qstage/#/tutorial?sectionId=c59b3710b928891a1420190148a72cce&pageIndex=0) or check-out the [community](https://quantumexperience.ng.bluemix.net/qstage/#/community).\n",
    "\n",
    "***\n",
    "### Contributors\n",
    "Andrew Cross"
   ]
  },
  {
   "cell_type": "markdown",
   "metadata": {},
   "source": [
    "## Introduction\n",
    "\n"
   ]
  },
  {
   "cell_type": "code",
   "execution_count": 15,
   "metadata": {
    "collapsed": false
   },
   "outputs": [],
   "source": [
    "import copy\n",
    "\n",
    "from IBMQuantumExperience import IBMQuantumExperience\n",
    "import Qconfig\n",
    "import Qhelpers.misc as misc\n",
    "\n",
    "api = IBMQuantumExperience.IBMQuantumExperience(Qconfig.APItoken,Qconfig.config)"
   ]
  },
  {
   "cell_type": "code",
   "execution_count": 16,
   "metadata": {
    "collapsed": false
   },
   "outputs": [],
   "source": [
    "# QASM source to prepare the input state\n",
    "qasm = \"\"\"\n",
    "OPENQASM 2.0;\n",
    "include \"qelib1.inc\";\n",
    "qreg q[5];\n",
    "creg c[5];\n",
    "h q[0];\n",
    "h q[2]; s q[2];\n",
    "h q[4]; u1(pi/4) q[4];\n",
    "\"\"\"\n",
    "# A list of qubits for multi-qubit state tomography\n",
    "tomo_qubits = [0,1,2,4]\n",
    "# Device to use\n",
    "device = \"real\"  # use \"simulator\" or \"real\"\n",
    "shots = 1024\n",
    "maxCredits = 3\n",
    "input_qreg = 'q'\n",
    "input_creg = 'c'"
   ]
  },
  {
   "cell_type": "markdown",
   "metadata": {},
   "source": [
    "The ideal POVM elements are $\\{ |k\\rangle\\langle k| \\}_{k=0}^{2^n-1}$ but the measurement actually implements $\\{ \\Pi_k \\}$ where each $\\Pi_k$ is assumed to be diagonal and $\\sum_k \\Pi_k=I$. The diagonal assumption models assignment errors, i.e. I should have observed $k$ but I observed $k'$ instead. If we assume that all of the non-ideality comes from imperfect measurement, rather than state preparation and single qubit gate error, we can estimate the $\\Pi_k$ in the following way. Suppose we prepare $|j\\rangle\\langle j|$ and measure. The probability of observing outcome $k$ is $\\mathrm{Tr}(\\Pi_k|j\\rangle\\langle j|)=\\langle j|\\Pi_k|j\\rangle$."
   ]
  },
  {
   "cell_type": "code",
   "execution_count": 29,
   "metadata": {
    "collapsed": false
   },
   "outputs": [],
   "source": [
    "zerostate=\"\"\"\n",
    "OPENQASM 2.0;\n",
    "include \"qelib1.inc\";\n",
    "qreg q[5];\n",
    "creg c[5];\n",
    "\"\"\"\n",
    "meas_str = \"measure %s[%d] -> %s[%d];\"\n",
    "num_states = 2**len(tomo_qubits)\n",
    "job = []\n",
    "for j in range(num_states):\n",
    "    c = [tomo_qubits[i] for i in filter(lambda x:(j&(1<<x))!=0,range(len(tomo_qubits)))]\n",
    "    qasm = {'qasm': copy.copy(zerostate)}\n",
    "    for q in c:\n",
    "        qasm['qasm'] += \"x %s[%d];\\n\" % (input_qreg, q)\n",
    "    for q in tomo_qubits:\n",
    "        qasm['qasm'] += meas_str % (input_qreg, q, input_creg, q)\n",
    "    job.append(qasm)"
   ]
  },
  {
   "cell_type": "markdown",
   "metadata": {},
   "source": [
    "The next line generates the QASM source for the job and submits it to the Quantum Experience."
   ]
  },
  {
   "cell_type": "code",
   "execution_count": 19,
   "metadata": {
    "collapsed": false
   },
   "outputs": [],
   "source": [
    "# Submit the job\n",
    "out = api.runJob(job, device, shots, maxCredits)"
   ]
  },
  {
   "cell_type": "markdown",
   "metadata": {},
   "source": [
    "The next line waits for the job to finish."
   ]
  },
  {
   "cell_type": "code",
   "execution_count": 20,
   "metadata": {
    "collapsed": false
   },
   "outputs": [
    {
     "name": "stdout",
     "output_type": "stream",
     "text": [
      "status = {'RUNNING': 1} (0 seconds)\n",
      "status = {'RUNNING': 1} (5 seconds)\n",
      "status = {'RUNNING': 1} (10 seconds)\n",
      "status = {'RUNNING': 1} (15 seconds)\n",
      "status = {'RUNNING': 1} (20 seconds)\n",
      "status = {'COMPLETED': 1} (25 seconds)\n"
     ]
    }
   ],
   "source": [
    "res = misc.waitForJobs([out['id']], api)"
   ]
  },
  {
   "cell_type": "code",
   "execution_count": 28,
   "metadata": {
    "collapsed": false
   },
   "outputs": [
    {
     "data": {
      "text/plain": [
       "{'00000': 949, '00010': 55, '00100': 2, '10000': 16, '10010': 2}"
      ]
     },
     "execution_count": 28,
     "metadata": {},
     "output_type": "execute_result"
    }
   ],
   "source": [
    "misc.getData(res[0],0)"
   ]
  },
  {
   "cell_type": "code",
   "execution_count": 39,
   "metadata": {
    "collapsed": false
   },
   "outputs": [],
   "source": [
    "import numpy as np\n",
    "Pis = []\n",
    "for k in range(num_states):\n",
    "    Pis.append(np.zeros((num_states,num_states)))\n",
    "for j in range(num_states):\n",
    "    for key, val in misc.getData(res[0],j).items():\n",
    "        k = 0\n",
    "        for i in tomo_qubits:\n",
    "            if key[-1-i] == '1':\n",
    "                k += 2**tomo_qubits.index(i)\n",
    "        # take only bits of key in tomo_qubits\n",
    "        Pis[k][j,j] = float(val)/float(shots)"
   ]
  },
  {
   "cell_type": "markdown",
   "metadata": {},
   "source": [
    "We measure a complete set of observables corresponding to the non-identity Pauli elements on qubits in tomo_qubits. We can construct the Pauli $Z$ operators as sums of projectors $|k\\rangle\\langle k|$ with $\\pm 1$ coefficients. The actual observables are sums of $\\Pi_k$."
   ]
  },
  {
   "cell_type": "code",
   "execution_count": null,
   "metadata": {
    "collapsed": true
   },
   "outputs": [],
   "source": []
  }
 ],
 "metadata": {
  "anaconda-cloud": {},
  "kernelspec": {
   "display_name": "Python [default]",
   "language": "python",
   "name": "python3"
  },
  "language_info": {
   "codemirror_mode": {
    "name": "ipython",
    "version": 3
   },
   "file_extension": ".py",
   "mimetype": "text/x-python",
   "name": "python",
   "nbconvert_exporter": "python",
   "pygments_lexer": "ipython3",
   "version": "3.5.2"
  }
 },
 "nbformat": 4,
 "nbformat_minor": 1
}
